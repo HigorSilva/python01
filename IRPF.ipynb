{
  "nbformat": 4,
  "nbformat_minor": 0,
  "metadata": {
    "colab": {
      "name": "IRPF",
      "provenance": [],
      "collapsed_sections": []
    },
    "kernelspec": {
      "name": "python3",
      "display_name": "Python 3"
    },
    "language_info": {
      "name": "python"
    }
  },
  "cells": [
    {
      "cell_type": "code",
      "metadata": {
        "colab": {
          "base_uri": "https://localhost:8080/"
        },
        "id": "7cFmFvYC3vQ5",
        "outputId": "faf5a280-c18c-46c1-a23e-9a45383a9cca"
      },
      "source": [
        "renda = 0\n",
        "salario = 0\n",
        "dependentes = 0\n",
        "\n",
        "inss_piso = [0.00, 1045.01, 2089.61, 3134.41]\n",
        "inss_teto = [1045.00, 2089.60, 3134.40, 6101.06]\n",
        "inss = [7.5, 9, 12, 14]\n",
        "irpf = [7.5, 15, 22.5, 27.5]\n",
        "deduz = [142.80, 354.80, 636.13, 869.36]\n",
        "\n",
        "inss_ali = 0\n",
        "base = 0\n",
        "devido = 0\n",
        "\n",
        "#Principais dados de entrada\n",
        "renda = float(input('Informe a renda: '))\n",
        "dependentes = int(input('Informe o número de dependentes: '))\n",
        "\n",
        "#Calculo da alíquota de INSS\n",
        "if (renda > inss_teto[3]):\n",
        "  salario = inss_teto[3]\n",
        "  inss_ali += (salario - inss_piso[3]) * (inss[3]/100)\n",
        "  inss_ali += (inss_teto[2] - inss_piso[2]) * (inss[2]/100)\n",
        "  inss_ali += (inss_teto[1] - inss_piso[1]) * (inss[1]/100)\n",
        "  inss_ali += (inss_teto[0] - inss_piso[0]) * (inss[0]/100)\n",
        "elif (renda > inss_teto[2]):\n",
        "  inss_ali += (renda - inss_piso[3]) * (inss[3]/100)\n",
        "  inss_ali += (inss_teto[2] - inss_piso[2]) * (inss[2]/100)\n",
        "  inss_ali += (inss_teto[1] - inss_piso[1]) * (inss[1]/100)\n",
        "  inss_ali += (inss_teto[0] - inss_piso[0]) * (inss[0]/100)\n",
        "elif (renda > inss_teto[1]):\n",
        "  inss_ali += (renda - inss_piso[2]) * (inss[2]/100)\n",
        "  inss_ali += (inss_teto[1] - inss_piso[1]) * (inss[1]/100)\n",
        "  inss_ali += (inss_teto[0] - inss_piso[0]) * (inss[0]/100)\n",
        "elif (renda > inss_teto[0]):\n",
        "  inss_ali += (renda - inss_piso[1]) * (inss[1]/100)\n",
        "  inss_ali += (inss_teto[0] - inss_piso[0]) * (inss[0]/100)\n",
        "else:\n",
        "  inss_ali += renda * (inss[0]/100)\n",
        "\n",
        "#Calculo do IRPF\n",
        "base += renda - inss_ali - (dependentes * 189.59)\n",
        "\n",
        "if (base > 4664.68):\n",
        "  devido = base * (irpf[3]/100) - deduz[3]\n",
        "elif (base > 3751.05):\n",
        "  devido = base * (irpf[2]/100) - deduz[2]\n",
        "elif (base > 2826.65):\n",
        "  devido = base * (irpf[1]/100) - deduz[1]\n",
        "elif (base > 1903.98):\n",
        "  devido = base * (irpf[0]/100) - deduz[0]\n",
        "\n",
        "\n",
        "#print(round(inss_ali, 2))\n",
        "print(\"Imposto devido: \", round(devido, 2))\n"
      ],
      "execution_count": null,
      "outputs": [
        {
          "output_type": "stream",
          "text": [
            "Informe a renda: 7000\n",
            "Informe o número de dependentes: 0\n",
            "Imposto devido:  859.54\n"
          ],
          "name": "stdout"
        }
      ]
    }
  ]
}